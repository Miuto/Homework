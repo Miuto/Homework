{
 "cells": [
  {
   "cell_type": "code",
   "execution_count": 1,
   "metadata": {},
   "outputs": [],
   "source": [
    "import requests\n",
    "from bs4 import BeautifulSoup\n",
    "import pandas as pd\n"
   ]
  },
  {
   "cell_type": "code",
   "execution_count": 2,
   "metadata": {},
   "outputs": [],
   "source": [
    "def get_page_content(request_url):\n",
    "    #得到页面类容\n",
    "    headers={'user-agent': 'Mozilla/5.0 (Windows NT 10.0; WOW64) AppleWebKit/537.36 (KHTML, like Gecko) Chrome/74.0.3729.131 Safari/537.36'}   #模拟浏览器访问\n",
    "    html=requests.get(request_url,headers=headers,timeout=10)   #请求访问网站\n",
    "    content = html.text   #获取网页源码\n",
    "    # 通过content创建BeautifulSoup对象\n",
    "    bs = BeautifulSoup(content,'html.parser', from_encoding='utf-8')   #声明python代码的文本格式是utf-8编码\n",
    "    return bs\n",
    "    "
   ]
  },
  {
   "cell_type": "code",
   "execution_count": 4,
   "metadata": {},
   "outputs": [],
   "source": [
    "#分析当前页面的投诉信息\n",
    "def analysis(bs):\n",
    "    df=pd.DataFrame(columns=['id','brand','car_model','type','desc','problem','datetime','status'])  #创建一个dataframe\n",
    "    #找到完整的投诉信息框,利用chrome的检查功能，tr对应行，td对应列\n",
    "    temp=soup.find('div',class_='tslb_b')\n",
    "    #找出所有的tr\n",
    "    tr_list=temp.find_all('tr')\n",
    "    for tr in tr_list:\n",
    "        td_list=tr.find_all('td')\n",
    "        #如果没有td，就是表头th\n",
    "        if len(td_list)>0:\n",
    "            #取出 投诉编号、投诉品牌等相关列的数据\n",
    "            #创建一个字典\n",
    "            temp={}\n",
    "            temp['id']=td_list[0].text\n",
    "            temp['brand']=td_list[1].text\n",
    "            temp['car_model']=td_list[2].text\n",
    "            temp['type']=td_list[3].text\n",
    "            temp['desc']=td_list[4].text\n",
    "            temp['problem']=td_list[5].text\n",
    "            temp['datetime']=td_list[6].text\n",
    "            temp['status']=td_list[7].text\n",
    "            df=df.append(temp,ignore_index=True)\n",
    "    return df\n",
    "result=pd.DataFrame(columns=['id','brand','car_model','type','desc','problem','datetime','status'])\n",
    "\n",
    "                            "
   ]
  },
  {
   "cell_type": "code",
   "execution_count": 5,
   "metadata": {},
   "outputs": [
    {
     "name": "stderr",
     "output_type": "stream",
     "text": [
      "D:\\anaconda\\lib\\site-packages\\bs4\\__init__.py:203: UserWarning: You provided Unicode markup but also provided a value for from_encoding. Your from_encoding will be ignored.\n",
      "  warnings.warn(\"You provided Unicode markup but also provided a value for from_encoding. Your from_encoding will be ignored.\")\n"
     ]
    },
    {
     "name": "stdout",
     "output_type": "stream",
     "text": [
      "        id   brand car_model                          type  \\\n",
      "0   576526    长安福特        锐际     2020款 EcoBoost 245 四驱 嘉享款   \n",
      "1   576522    一汽奔腾     奔腾T77      2019款 230 TID 自动 尊享型 国VI   \n",
      "2   576521    一汽丰田        威驰            2017款 1.5L CVT 创行版   \n",
      "3   576520     保时捷   Cayenne          2020款 Cayenne S 2.9T   \n",
      "4   576519   一汽-大众        探岳         2020款 330TSI 两驱 豪华智联版   \n",
      "..     ...     ...       ...                           ...   \n",
      "25  575945   一汽-大众        探岳         2020款 330TSI 两驱 豪华智联版   \n",
      "26  575944    华晨宝马      宝马3系               2017款 320Li 时尚型   \n",
      "27  575943  宝马（进口）      宝马X2  2019款 sDrive25i 尊享型M越野套装 国VI   \n",
      "28  575942    华晨宝马      宝马X1          2020款 xDrive25Li 尊享型   \n",
      "29  575940    广汽本田        凌派             2013款 1.8L 自动 舒适版   \n",
      "\n",
      "                      desc                       problem    datetime status  \n",
      "0       长安福特锐际变速箱漏油 方向盘异响   B22,D59,E239,H134,J300,J299,  2021-03-05   信息审核  \n",
      "1   一汽奔腾T77维保记录与购车不符合 车内异响                    H164,M284,  2021-03-05   信息审核  \n",
      "2     一汽丰田威驰低速行驶时发动机舱内出现异响                           A9,  2021-03-05   信息审核  \n",
      "3     保时捷Cayenne中控屏闪烁 电瓶亏电                    H134,H146,  2021-03-05   信息审核  \n",
      "4     一汽大众探岳颗粒捕捉器堵塞导致油耗高\\t                     A85,A114,  2021-03-05   信息审核  \n",
      "..                     ...                           ...         ...    ...  \n",
      "25      一汽大众探岳颗粒捕捉器堵塞导致油耗高             A9,A163,A85,A114,  2021-03-03   处理反馈  \n",
      "26      华晨宝马3系冷却水管断裂水泵漏防冻液                     A37,A191,  2021-03-03   信息审核  \n",
      "27     进口宝马X2外界气温高时发动机怠速升高                          A35,  2021-03-03   信息审核  \n",
      "28   华晨宝马X1发动机怠速高换挡卡顿 起步闯动                      A35,B19,  2021-03-03   信息审核  \n",
      "29         广汽本田凌派店内收取高额报价费                         K307,  2021-03-03   处理反馈  \n",
      "\n",
      "[300 rows x 8 columns]\n"
     ]
    }
   ],
   "source": [
    "#请求url\n",
    "base_url='http://www.12365auto.com/zlts/0-0-0-0-0-0_0-0-0-0-0-0-0-'  #斜杠后不写序号，通过后文创建序列，设置页面数\n",
    "page_num=10\n",
    "for i in range(page_num):\n",
    "    #拼接当前的页面url\n",
    "    request_url=base_url+str(i*1)+'.shtml'\n",
    "    #通过soup解析，得到当前页面的dataframe\n",
    "    soup=get_page_content(request_url)\n",
    "    df = analysis(soup)\n",
    "    result=result.append(df)\n",
    "print(result)\n",
    "result.to_csv('car_complain_mm.csv',index=False)\n",
    "result.to_excel('car_complain_mm.xlsx',index=False)\n"
   ]
  },
  {
   "cell_type": "code",
   "execution_count": null,
   "metadata": {},
   "outputs": [],
   "source": []
  }
 ],
 "metadata": {
  "kernelspec": {
   "display_name": "Python 3",
   "language": "python",
   "name": "python3"
  },
  "language_info": {
   "codemirror_mode": {
    "name": "ipython",
    "version": 3
   },
   "file_extension": ".py",
   "mimetype": "text/x-python",
   "name": "python",
   "nbconvert_exporter": "python",
   "pygments_lexer": "ipython3",
   "version": "3.7.6"
  }
 },
 "nbformat": 4,
 "nbformat_minor": 4
}
