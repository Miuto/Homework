{
 "cells": [
  {
   "cell_type": "code",
   "execution_count": 5,
   "metadata": {},
   "outputs": [
    {
     "name": "stdout",
     "output_type": "stream",
     "text": [
      "              0          1           2                 3             4   \\\n",
      "0         shrimp    almonds     avocado    vegetables mix  green grapes   \n",
      "1        burgers  meatballs        eggs               NaN           NaN   \n",
      "2        chutney        NaN         NaN               NaN           NaN   \n",
      "3         turkey    avocado         NaN               NaN           NaN   \n",
      "4  mineral water       milk  energy bar  whole wheat rice     green tea   \n",
      "\n",
      "                 5     6               7             8             9   \\\n",
      "0  whole weat flour  yams  cottage cheese  energy drink  tomato juice   \n",
      "1               NaN   NaN             NaN           NaN           NaN   \n",
      "2               NaN   NaN             NaN           NaN           NaN   \n",
      "3               NaN   NaN             NaN           NaN           NaN   \n",
      "4               NaN   NaN             NaN           NaN           NaN   \n",
      "\n",
      "               10         11     12     13             14      15  \\\n",
      "0  low fat yogurt  green tea  honey  salad  mineral water  salmon   \n",
      "1             NaN        NaN    NaN    NaN            NaN     NaN   \n",
      "2             NaN        NaN    NaN    NaN            NaN     NaN   \n",
      "3             NaN        NaN    NaN    NaN            NaN     NaN   \n",
      "4             NaN        NaN    NaN    NaN            NaN     NaN   \n",
      "\n",
      "                  16               17       18         19  \n",
      "0  antioxydant juice  frozen smoothie  spinach  olive oil  \n",
      "1                NaN              NaN      NaN        NaN  \n",
      "2                NaN              NaN      NaN        NaN  \n",
      "3                NaN              NaN      NaN        NaN  \n",
      "4                NaN              NaN      NaN        NaN  \n"
     ]
    }
   ],
   "source": [
    "import pandas as pd\n",
    "import time\n",
    "# 数据加载（由于没有表头，需进行设置）\n",
    "data = pd.read_csv('./Market_Basket_Optimisation.csv', header = None)\n",
    "data.shape\n",
    "print(data.head())\n"
   ]
  },
  {
   "cell_type": "code",
   "execution_count": 15,
   "metadata": {},
   "outputs": [],
   "source": [
    "transactions=[]\n",
    "#按照行对列表进行遍历\n",
    "for i in range(0,data.shape[0]):\n",
    "    temp=[]    #记录一行transaction\n",
    "    #按照列遍历\n",
    "    for j in range(0,data.shape[1]):\n",
    "        #去掉空值\n",
    "        if str(data.values[i,j])!= 'nan':\n",
    "            temp.append(data.values[i,j])\n",
    "    #print(temp) 此时temp中都是针对单行的记录，再构建一个transactions，转化为二维表\n",
    "    transactions.append(temp)\n"
   ]
  },
  {
   "cell_type": "code",
   "execution_count": 16,
   "metadata": {},
   "outputs": [
    {
     "name": "stdout",
     "output_type": "stream",
     "text": [
      "频繁项集： {1: {(0,): 7501}}\n",
      "关联规则： []\n",
      "用时： 0.015223026275634766\n"
     ]
    }
   ],
   "source": [
    "#运用apriori开始挖掘\n",
    "from efficient_apriori import apriori\n",
    "start = time.time()\n",
    "itemsets, rules = apriori(transactions, min_support=0.05,  min_confidence=0.5)\n",
    "print('频繁项集：', itemsets)\n",
    "print('关联规则：', rules)\n",
    "end = time.time()\n",
    "print(\"用时：\", end-start)\n"
   ]
  },
  {
   "cell_type": "code",
   "execution_count": null,
   "metadata": {},
   "outputs": [],
   "source": []
  }
 ],
 "metadata": {
  "kernelspec": {
   "display_name": "Python 3",
   "language": "python",
   "name": "python3"
  },
  "language_info": {
   "codemirror_mode": {
    "name": "ipython",
    "version": 3
   },
   "file_extension": ".py",
   "mimetype": "text/x-python",
   "name": "python",
   "nbconvert_exporter": "python",
   "pygments_lexer": "ipython3",
   "version": "3.7.6"
  }
 },
 "nbformat": 4,
 "nbformat_minor": 4
}
